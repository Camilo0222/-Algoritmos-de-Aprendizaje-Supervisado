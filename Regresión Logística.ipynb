{
 "cells": [
  {
   "cell_type": "markdown",
   "id": "539eab68-57fb-4398-b003-bc121c6b448e",
   "metadata": {},
   "source": [
    "**1. Realizar un análisis exploratorio de los datos para identificar relaciones entre variables, valores atípicos, tendencias, etc.**"
   ]
  },
  {
   "cell_type": "code",
   "execution_count": 2,
   "id": "ceb63802-0fe6-4d38-b42c-3f3c142f3edc",
   "metadata": {},
   "outputs": [],
   "source": [
    "#Cargar las librerias necesarias\n",
    "\n",
    "import pandas as pd # Manejo y análisis de estructuras de datos\n",
    "import numpy as np # Cálculo numérico y el análisis de datos\n",
    "import seaborn as sns # Creación gráficos estadísticos\n",
    "import matplotlib.pyplot as plt # Creación de gráficos en dos dimensiones\n",
    "\n",
    "# librerías de para implementar modelos de ciencia de datos\n",
    "from sklearn import metrics\n",
    "from sklearn.model_selection import train_test_split\n",
    "from sklearn.linear_model import LogisticRegression\n",
    "from sklearn.metrics import classification_report, confusion_matrix"
   ]
  },
  {
   "cell_type": "code",
   "execution_count": 3,
   "id": "7374043c-263a-47ec-bc39-1d3e0f1de520",
   "metadata": {},
   "outputs": [],
   "source": [
    "Dataset = pd.read_csv('C:/Users/Admin/Desktop/Regresión_logisticá/heart_cleveland_upload.csv')"
   ]
  },
  {
   "cell_type": "code",
   "execution_count": 5,
   "id": "0c10c114-5b54-4528-b760-f91b6a1d62f4",
   "metadata": {
    "panel-layout": {
     "height": 308,
     "visible": true,
     "width": 100
    }
   },
   "outputs": [
    {
     "data": {
      "text/html": [
       "<div>\n",
       "<style scoped>\n",
       "    .dataframe tbody tr th:only-of-type {\n",
       "        vertical-align: middle;\n",
       "    }\n",
       "\n",
       "    .dataframe tbody tr th {\n",
       "        vertical-align: top;\n",
       "    }\n",
       "\n",
       "    .dataframe thead th {\n",
       "        text-align: right;\n",
       "    }\n",
       "</style>\n",
       "<table border=\"1\" class=\"dataframe\">\n",
       "  <thead>\n",
       "    <tr style=\"text-align: right;\">\n",
       "      <th></th>\n",
       "      <th>age</th>\n",
       "      <th>sex</th>\n",
       "      <th>cp</th>\n",
       "      <th>trestbps</th>\n",
       "      <th>chol</th>\n",
       "      <th>fbs</th>\n",
       "      <th>restecg</th>\n",
       "      <th>thalach</th>\n",
       "      <th>exang</th>\n",
       "      <th>oldpeak</th>\n",
       "      <th>slope</th>\n",
       "      <th>ca</th>\n",
       "      <th>thal</th>\n",
       "      <th>condition</th>\n",
       "    </tr>\n",
       "  </thead>\n",
       "  <tbody>\n",
       "    <tr>\n",
       "      <th>0</th>\n",
       "      <td>69</td>\n",
       "      <td>1</td>\n",
       "      <td>0</td>\n",
       "      <td>160</td>\n",
       "      <td>234</td>\n",
       "      <td>1</td>\n",
       "      <td>2</td>\n",
       "      <td>131</td>\n",
       "      <td>0</td>\n",
       "      <td>0.1</td>\n",
       "      <td>1</td>\n",
       "      <td>1</td>\n",
       "      <td>0</td>\n",
       "      <td>0</td>\n",
       "    </tr>\n",
       "    <tr>\n",
       "      <th>1</th>\n",
       "      <td>69</td>\n",
       "      <td>0</td>\n",
       "      <td>0</td>\n",
       "      <td>140</td>\n",
       "      <td>239</td>\n",
       "      <td>0</td>\n",
       "      <td>0</td>\n",
       "      <td>151</td>\n",
       "      <td>0</td>\n",
       "      <td>1.8</td>\n",
       "      <td>0</td>\n",
       "      <td>2</td>\n",
       "      <td>0</td>\n",
       "      <td>0</td>\n",
       "    </tr>\n",
       "    <tr>\n",
       "      <th>2</th>\n",
       "      <td>66</td>\n",
       "      <td>0</td>\n",
       "      <td>0</td>\n",
       "      <td>150</td>\n",
       "      <td>226</td>\n",
       "      <td>0</td>\n",
       "      <td>0</td>\n",
       "      <td>114</td>\n",
       "      <td>0</td>\n",
       "      <td>2.6</td>\n",
       "      <td>2</td>\n",
       "      <td>0</td>\n",
       "      <td>0</td>\n",
       "      <td>0</td>\n",
       "    </tr>\n",
       "    <tr>\n",
       "      <th>3</th>\n",
       "      <td>65</td>\n",
       "      <td>1</td>\n",
       "      <td>0</td>\n",
       "      <td>138</td>\n",
       "      <td>282</td>\n",
       "      <td>1</td>\n",
       "      <td>2</td>\n",
       "      <td>174</td>\n",
       "      <td>0</td>\n",
       "      <td>1.4</td>\n",
       "      <td>1</td>\n",
       "      <td>1</td>\n",
       "      <td>0</td>\n",
       "      <td>1</td>\n",
       "    </tr>\n",
       "    <tr>\n",
       "      <th>4</th>\n",
       "      <td>64</td>\n",
       "      <td>1</td>\n",
       "      <td>0</td>\n",
       "      <td>110</td>\n",
       "      <td>211</td>\n",
       "      <td>0</td>\n",
       "      <td>2</td>\n",
       "      <td>144</td>\n",
       "      <td>1</td>\n",
       "      <td>1.8</td>\n",
       "      <td>1</td>\n",
       "      <td>0</td>\n",
       "      <td>0</td>\n",
       "      <td>0</td>\n",
       "    </tr>\n",
       "    <tr>\n",
       "      <th>5</th>\n",
       "      <td>64</td>\n",
       "      <td>1</td>\n",
       "      <td>0</td>\n",
       "      <td>170</td>\n",
       "      <td>227</td>\n",
       "      <td>0</td>\n",
       "      <td>2</td>\n",
       "      <td>155</td>\n",
       "      <td>0</td>\n",
       "      <td>0.6</td>\n",
       "      <td>1</td>\n",
       "      <td>0</td>\n",
       "      <td>2</td>\n",
       "      <td>0</td>\n",
       "    </tr>\n",
       "    <tr>\n",
       "      <th>6</th>\n",
       "      <td>63</td>\n",
       "      <td>1</td>\n",
       "      <td>0</td>\n",
       "      <td>145</td>\n",
       "      <td>233</td>\n",
       "      <td>1</td>\n",
       "      <td>2</td>\n",
       "      <td>150</td>\n",
       "      <td>0</td>\n",
       "      <td>2.3</td>\n",
       "      <td>2</td>\n",
       "      <td>0</td>\n",
       "      <td>1</td>\n",
       "      <td>0</td>\n",
       "    </tr>\n",
       "    <tr>\n",
       "      <th>7</th>\n",
       "      <td>61</td>\n",
       "      <td>1</td>\n",
       "      <td>0</td>\n",
       "      <td>134</td>\n",
       "      <td>234</td>\n",
       "      <td>0</td>\n",
       "      <td>0</td>\n",
       "      <td>145</td>\n",
       "      <td>0</td>\n",
       "      <td>2.6</td>\n",
       "      <td>1</td>\n",
       "      <td>2</td>\n",
       "      <td>0</td>\n",
       "      <td>1</td>\n",
       "    </tr>\n",
       "    <tr>\n",
       "      <th>8</th>\n",
       "      <td>60</td>\n",
       "      <td>0</td>\n",
       "      <td>0</td>\n",
       "      <td>150</td>\n",
       "      <td>240</td>\n",
       "      <td>0</td>\n",
       "      <td>0</td>\n",
       "      <td>171</td>\n",
       "      <td>0</td>\n",
       "      <td>0.9</td>\n",
       "      <td>0</td>\n",
       "      <td>0</td>\n",
       "      <td>0</td>\n",
       "      <td>0</td>\n",
       "    </tr>\n",
       "    <tr>\n",
       "      <th>9</th>\n",
       "      <td>59</td>\n",
       "      <td>1</td>\n",
       "      <td>0</td>\n",
       "      <td>178</td>\n",
       "      <td>270</td>\n",
       "      <td>0</td>\n",
       "      <td>2</td>\n",
       "      <td>145</td>\n",
       "      <td>0</td>\n",
       "      <td>4.2</td>\n",
       "      <td>2</td>\n",
       "      <td>0</td>\n",
       "      <td>2</td>\n",
       "      <td>0</td>\n",
       "    </tr>\n",
       "    <tr>\n",
       "      <th>10</th>\n",
       "      <td>59</td>\n",
       "      <td>1</td>\n",
       "      <td>0</td>\n",
       "      <td>170</td>\n",
       "      <td>288</td>\n",
       "      <td>0</td>\n",
       "      <td>2</td>\n",
       "      <td>159</td>\n",
       "      <td>0</td>\n",
       "      <td>0.2</td>\n",
       "      <td>1</td>\n",
       "      <td>0</td>\n",
       "      <td>2</td>\n",
       "      <td>1</td>\n",
       "    </tr>\n",
       "    <tr>\n",
       "      <th>11</th>\n",
       "      <td>59</td>\n",
       "      <td>1</td>\n",
       "      <td>0</td>\n",
       "      <td>160</td>\n",
       "      <td>273</td>\n",
       "      <td>0</td>\n",
       "      <td>2</td>\n",
       "      <td>125</td>\n",
       "      <td>0</td>\n",
       "      <td>0.0</td>\n",
       "      <td>0</td>\n",
       "      <td>0</td>\n",
       "      <td>0</td>\n",
       "      <td>1</td>\n",
       "    </tr>\n",
       "    <tr>\n",
       "      <th>12</th>\n",
       "      <td>59</td>\n",
       "      <td>1</td>\n",
       "      <td>0</td>\n",
       "      <td>134</td>\n",
       "      <td>204</td>\n",
       "      <td>0</td>\n",
       "      <td>0</td>\n",
       "      <td>162</td>\n",
       "      <td>0</td>\n",
       "      <td>0.8</td>\n",
       "      <td>0</td>\n",
       "      <td>2</td>\n",
       "      <td>0</td>\n",
       "      <td>1</td>\n",
       "    </tr>\n",
       "    <tr>\n",
       "      <th>13</th>\n",
       "      <td>58</td>\n",
       "      <td>0</td>\n",
       "      <td>0</td>\n",
       "      <td>150</td>\n",
       "      <td>283</td>\n",
       "      <td>1</td>\n",
       "      <td>2</td>\n",
       "      <td>162</td>\n",
       "      <td>0</td>\n",
       "      <td>1.0</td>\n",
       "      <td>0</td>\n",
       "      <td>0</td>\n",
       "      <td>0</td>\n",
       "      <td>0</td>\n",
       "    </tr>\n",
       "    <tr>\n",
       "      <th>14</th>\n",
       "      <td>56</td>\n",
       "      <td>1</td>\n",
       "      <td>0</td>\n",
       "      <td>120</td>\n",
       "      <td>193</td>\n",
       "      <td>0</td>\n",
       "      <td>2</td>\n",
       "      <td>162</td>\n",
       "      <td>0</td>\n",
       "      <td>1.9</td>\n",
       "      <td>1</td>\n",
       "      <td>0</td>\n",
       "      <td>2</td>\n",
       "      <td>0</td>\n",
       "    </tr>\n",
       "  </tbody>\n",
       "</table>\n",
       "</div>"
      ],
      "text/plain": [
       "    age  sex  cp  trestbps  chol  fbs  restecg  thalach  exang  oldpeak  \\\n",
       "0    69    1   0       160   234    1        2      131      0      0.1   \n",
       "1    69    0   0       140   239    0        0      151      0      1.8   \n",
       "2    66    0   0       150   226    0        0      114      0      2.6   \n",
       "3    65    1   0       138   282    1        2      174      0      1.4   \n",
       "4    64    1   0       110   211    0        2      144      1      1.8   \n",
       "5    64    1   0       170   227    0        2      155      0      0.6   \n",
       "6    63    1   0       145   233    1        2      150      0      2.3   \n",
       "7    61    1   0       134   234    0        0      145      0      2.6   \n",
       "8    60    0   0       150   240    0        0      171      0      0.9   \n",
       "9    59    1   0       178   270    0        2      145      0      4.2   \n",
       "10   59    1   0       170   288    0        2      159      0      0.2   \n",
       "11   59    1   0       160   273    0        2      125      0      0.0   \n",
       "12   59    1   0       134   204    0        0      162      0      0.8   \n",
       "13   58    0   0       150   283    1        2      162      0      1.0   \n",
       "14   56    1   0       120   193    0        2      162      0      1.9   \n",
       "\n",
       "    slope  ca  thal  condition  \n",
       "0       1   1     0          0  \n",
       "1       0   2     0          0  \n",
       "2       2   0     0          0  \n",
       "3       1   1     0          1  \n",
       "4       1   0     0          0  \n",
       "5       1   0     2          0  \n",
       "6       2   0     1          0  \n",
       "7       1   2     0          1  \n",
       "8       0   0     0          0  \n",
       "9       2   0     2          0  \n",
       "10      1   0     2          1  \n",
       "11      0   0     0          1  \n",
       "12      0   2     0          1  \n",
       "13      0   0     0          0  \n",
       "14      1   0     2          0  "
      ]
     },
     "execution_count": 5,
     "metadata": {},
     "output_type": "execute_result"
    }
   ],
   "source": [
    "Dataset.head(15)"
   ]
  },
  {
   "cell_type": "code",
   "execution_count": 6,
   "id": "17acdc84-b293-42fd-9855-62f6c65bb22e",
   "metadata": {
    "panel-layout": {
     "height": 254,
     "visible": true,
     "width": 100
    }
   },
   "outputs": [
    {
     "data": {
      "text/html": [
       "<div>\n",
       "<style scoped>\n",
       "    .dataframe tbody tr th:only-of-type {\n",
       "        vertical-align: middle;\n",
       "    }\n",
       "\n",
       "    .dataframe tbody tr th {\n",
       "        vertical-align: top;\n",
       "    }\n",
       "\n",
       "    .dataframe thead th {\n",
       "        text-align: right;\n",
       "    }\n",
       "</style>\n",
       "<table border=\"1\" class=\"dataframe\">\n",
       "  <thead>\n",
       "    <tr style=\"text-align: right;\">\n",
       "      <th></th>\n",
       "      <th>age</th>\n",
       "      <th>sex</th>\n",
       "      <th>cp</th>\n",
       "      <th>trestbps</th>\n",
       "      <th>chol</th>\n",
       "      <th>fbs</th>\n",
       "      <th>restecg</th>\n",
       "      <th>thalach</th>\n",
       "      <th>exang</th>\n",
       "      <th>oldpeak</th>\n",
       "      <th>slope</th>\n",
       "      <th>ca</th>\n",
       "      <th>thal</th>\n",
       "      <th>condition</th>\n",
       "    </tr>\n",
       "  </thead>\n",
       "  <tbody>\n",
       "    <tr>\n",
       "      <th>count</th>\n",
       "      <td>297.000000</td>\n",
       "      <td>297.000000</td>\n",
       "      <td>297.000000</td>\n",
       "      <td>297.000000</td>\n",
       "      <td>297.000000</td>\n",
       "      <td>297.000000</td>\n",
       "      <td>297.000000</td>\n",
       "      <td>297.000000</td>\n",
       "      <td>297.000000</td>\n",
       "      <td>297.000000</td>\n",
       "      <td>297.000000</td>\n",
       "      <td>297.000000</td>\n",
       "      <td>297.000000</td>\n",
       "      <td>297.000000</td>\n",
       "    </tr>\n",
       "    <tr>\n",
       "      <th>mean</th>\n",
       "      <td>54.542088</td>\n",
       "      <td>0.676768</td>\n",
       "      <td>2.158249</td>\n",
       "      <td>131.693603</td>\n",
       "      <td>247.350168</td>\n",
       "      <td>0.144781</td>\n",
       "      <td>0.996633</td>\n",
       "      <td>149.599327</td>\n",
       "      <td>0.326599</td>\n",
       "      <td>1.055556</td>\n",
       "      <td>0.602694</td>\n",
       "      <td>0.676768</td>\n",
       "      <td>0.835017</td>\n",
       "      <td>0.461279</td>\n",
       "    </tr>\n",
       "    <tr>\n",
       "      <th>std</th>\n",
       "      <td>9.049736</td>\n",
       "      <td>0.468500</td>\n",
       "      <td>0.964859</td>\n",
       "      <td>17.762806</td>\n",
       "      <td>51.997583</td>\n",
       "      <td>0.352474</td>\n",
       "      <td>0.994914</td>\n",
       "      <td>22.941562</td>\n",
       "      <td>0.469761</td>\n",
       "      <td>1.166123</td>\n",
       "      <td>0.618187</td>\n",
       "      <td>0.938965</td>\n",
       "      <td>0.956690</td>\n",
       "      <td>0.499340</td>\n",
       "    </tr>\n",
       "    <tr>\n",
       "      <th>min</th>\n",
       "      <td>29.000000</td>\n",
       "      <td>0.000000</td>\n",
       "      <td>0.000000</td>\n",
       "      <td>94.000000</td>\n",
       "      <td>126.000000</td>\n",
       "      <td>0.000000</td>\n",
       "      <td>0.000000</td>\n",
       "      <td>71.000000</td>\n",
       "      <td>0.000000</td>\n",
       "      <td>0.000000</td>\n",
       "      <td>0.000000</td>\n",
       "      <td>0.000000</td>\n",
       "      <td>0.000000</td>\n",
       "      <td>0.000000</td>\n",
       "    </tr>\n",
       "    <tr>\n",
       "      <th>25%</th>\n",
       "      <td>48.000000</td>\n",
       "      <td>0.000000</td>\n",
       "      <td>2.000000</td>\n",
       "      <td>120.000000</td>\n",
       "      <td>211.000000</td>\n",
       "      <td>0.000000</td>\n",
       "      <td>0.000000</td>\n",
       "      <td>133.000000</td>\n",
       "      <td>0.000000</td>\n",
       "      <td>0.000000</td>\n",
       "      <td>0.000000</td>\n",
       "      <td>0.000000</td>\n",
       "      <td>0.000000</td>\n",
       "      <td>0.000000</td>\n",
       "    </tr>\n",
       "    <tr>\n",
       "      <th>50%</th>\n",
       "      <td>56.000000</td>\n",
       "      <td>1.000000</td>\n",
       "      <td>2.000000</td>\n",
       "      <td>130.000000</td>\n",
       "      <td>243.000000</td>\n",
       "      <td>0.000000</td>\n",
       "      <td>1.000000</td>\n",
       "      <td>153.000000</td>\n",
       "      <td>0.000000</td>\n",
       "      <td>0.800000</td>\n",
       "      <td>1.000000</td>\n",
       "      <td>0.000000</td>\n",
       "      <td>0.000000</td>\n",
       "      <td>0.000000</td>\n",
       "    </tr>\n",
       "    <tr>\n",
       "      <th>75%</th>\n",
       "      <td>61.000000</td>\n",
       "      <td>1.000000</td>\n",
       "      <td>3.000000</td>\n",
       "      <td>140.000000</td>\n",
       "      <td>276.000000</td>\n",
       "      <td>0.000000</td>\n",
       "      <td>2.000000</td>\n",
       "      <td>166.000000</td>\n",
       "      <td>1.000000</td>\n",
       "      <td>1.600000</td>\n",
       "      <td>1.000000</td>\n",
       "      <td>1.000000</td>\n",
       "      <td>2.000000</td>\n",
       "      <td>1.000000</td>\n",
       "    </tr>\n",
       "    <tr>\n",
       "      <th>max</th>\n",
       "      <td>77.000000</td>\n",
       "      <td>1.000000</td>\n",
       "      <td>3.000000</td>\n",
       "      <td>200.000000</td>\n",
       "      <td>564.000000</td>\n",
       "      <td>1.000000</td>\n",
       "      <td>2.000000</td>\n",
       "      <td>202.000000</td>\n",
       "      <td>1.000000</td>\n",
       "      <td>6.200000</td>\n",
       "      <td>2.000000</td>\n",
       "      <td>3.000000</td>\n",
       "      <td>2.000000</td>\n",
       "      <td>1.000000</td>\n",
       "    </tr>\n",
       "  </tbody>\n",
       "</table>\n",
       "</div>"
      ],
      "text/plain": [
       "              age         sex          cp    trestbps        chol         fbs  \\\n",
       "count  297.000000  297.000000  297.000000  297.000000  297.000000  297.000000   \n",
       "mean    54.542088    0.676768    2.158249  131.693603  247.350168    0.144781   \n",
       "std      9.049736    0.468500    0.964859   17.762806   51.997583    0.352474   \n",
       "min     29.000000    0.000000    0.000000   94.000000  126.000000    0.000000   \n",
       "25%     48.000000    0.000000    2.000000  120.000000  211.000000    0.000000   \n",
       "50%     56.000000    1.000000    2.000000  130.000000  243.000000    0.000000   \n",
       "75%     61.000000    1.000000    3.000000  140.000000  276.000000    0.000000   \n",
       "max     77.000000    1.000000    3.000000  200.000000  564.000000    1.000000   \n",
       "\n",
       "          restecg     thalach       exang     oldpeak       slope          ca  \\\n",
       "count  297.000000  297.000000  297.000000  297.000000  297.000000  297.000000   \n",
       "mean     0.996633  149.599327    0.326599    1.055556    0.602694    0.676768   \n",
       "std      0.994914   22.941562    0.469761    1.166123    0.618187    0.938965   \n",
       "min      0.000000   71.000000    0.000000    0.000000    0.000000    0.000000   \n",
       "25%      0.000000  133.000000    0.000000    0.000000    0.000000    0.000000   \n",
       "50%      1.000000  153.000000    0.000000    0.800000    1.000000    0.000000   \n",
       "75%      2.000000  166.000000    1.000000    1.600000    1.000000    1.000000   \n",
       "max      2.000000  202.000000    1.000000    6.200000    2.000000    3.000000   \n",
       "\n",
       "             thal   condition  \n",
       "count  297.000000  297.000000  \n",
       "mean     0.835017    0.461279  \n",
       "std      0.956690    0.499340  \n",
       "min      0.000000    0.000000  \n",
       "25%      0.000000    0.000000  \n",
       "50%      0.000000    0.000000  \n",
       "75%      2.000000    1.000000  \n",
       "max      2.000000    1.000000  "
      ]
     },
     "execution_count": 6,
     "metadata": {},
     "output_type": "execute_result"
    }
   ],
   "source": [
    "# Descripción del dataset\n",
    "Dataset.describe()"
   ]
  },
  {
   "cell_type": "code",
   "execution_count": 7,
   "id": "2e36ccfa-378e-49ed-ab7d-ef90fbd2b365",
   "metadata": {
    "panel-layout": {
     "height": 469.1500244140625,
     "visible": true,
     "width": 100
    }
   },
   "outputs": [
    {
     "data": {
      "text/plain": [
       "Text(0.5, 1.0, 'Identificación de Datos Faltantes y Atípicos')"
      ]
     },
     "execution_count": 7,
     "metadata": {},
     "output_type": "execute_result"
    },
    {
     "data": {
      "image/png": "[encoded data removed]",
      "text/plain": [
       "<Figure size 700x300 with 1 Axes>"
      ]
     },
     "metadata": {},
     "output_type": "display_data"
    }
   ],
   "source": [
    "#Identificación de Datos Faltantes y Atípicos\n",
    "\n",
    "plt.figure(figsize=(7, 3))\n",
    "sns.boxplot(x=Dataset['trestbps'])\n",
    "plt.title('Identificación de Datos Faltantes y Atípicos', fontsize=15 )"
   ]
  },
  {
   "cell_type": "code",
   "execution_count": 9,
   "id": "29458b54-d461-427a-9d17-8e425805951a",
   "metadata": {
    "panel-layout": {
     "height": 469.1500244140625,
     "visible": true,
     "width": 100
    }
   },
   "outputs": [
    {
     "data": {
      "text/plain": [
       "Text(0.5, 1.0, 'Identificación de Datos Faltantes y Atípicos')"
      ]
     },
     "execution_count": 9,
     "metadata": {},
     "output_type": "execute_result"
    },
    {
     "data": {
      "image/png": "[encoded data removed]",
      "text/plain": [
       "<Figure size 700x300 with 1 Axes>"
      ]
     },
     "metadata": {},
     "output_type": "display_data"
    }
   ],
   "source": [
    "plt.figure(figsize=(7, 3))\n",
    "sns.boxplot(x=Dataset['oldpeak'])\n",
    "plt.title('Identificación de Datos Faltantes y Atípicos', fontsize=15 )"
   ]
  },
  {
   "cell_type": "markdown",
   "id": "fbaab1cb-bde4-4f9e-9502-7088a6d70000",
   "metadata": {},
   "source": [
    "**2. Preprocesar los datos limpiándolos, tratando valores faltantes y transformándolos**"
   ]
  },
  {
   "cell_type": "code",
   "execution_count": 85,
   "id": "06b74745-4daf-4410-8d93-fb73f8a36aac",
   "metadata": {
    "panel-layout": {
     "height": 442,
     "visible": true,
     "width": 100
    }
   },
   "outputs": [
    {
     "name": "stdout",
     "output_type": "stream",
     "text": [
      "Cantidad de Registros con cero en Age: 0\n",
      "Cantidad de Registros con cero en trestbps: 0\n",
      "Cantidad de Registros con cero en chol: 0\n"
     ]
    }
   ],
   "source": [
    "#Revisión de datos faltantes\n",
    "\n",
    "print(\"Cantidad de Registros con cero en Age:\",Dataset['age'].isin([0]).sum())\n",
    "print(\"Cantidad de Registros con cero en trestbps:\",Dataset['trestbps'].isin([0]).sum())\n",
    "print(\"Cantidad de Registros con cero en chol:\",Dataset['chol'].isin([0]).sum())"
   ]
  },
  {
   "cell_type": "code",
   "execution_count": 86,
   "id": "32d9c422-fbd9-42d1-8234-211b5fd1a86e",
   "metadata": {
    "panel-layout": {
     "height": 442,
     "visible": true,
     "width": 100
    }
   },
   "outputs": [
    {
     "name": "stdout",
     "output_type": "stream",
     "text": [
      "El total de datos atípicos es 5\n"
     ]
    }
   ],
   "source": [
    "#Conteo de Datos Atípicos oldpeak\n",
    "\n",
    "nivel_minimo=0\n",
    "nivel_maximo=4\n",
    "Total_Atipicos=((Dataset['oldpeak']<nivel_minimo)|(Dataset['oldpeak']>nivel_maximo)).sum()\n",
    "print(\"El total de datos atípicos es {}\".format(Total_Atipicos))"
   ]
  },
  {
   "cell_type": "code",
   "execution_count": 87,
   "id": "e48947b2-199f-4dd1-b051-268eb72a0a68",
   "metadata": {},
   "outputs": [],
   "source": [
    "# Filtra Datos Atípicos oldpeak\n",
    "\n",
    "Dataset=Dataset[(Dataset['oldpeak']<nivel_maximo)&(Dataset['oldpeak']>nivel_minimo)]"
   ]
  },
  {
   "cell_type": "code",
   "execution_count": 88,
   "id": "9caf3ee7-1a57-4cc4-8da0-d4a615e8aace",
   "metadata": {
    "panel-layout": {
     "height": 442,
     "visible": true,
     "width": 100
    }
   },
   "outputs": [
    {
     "name": "stdout",
     "output_type": "stream",
     "text": [
      "El total de los datos atípicos es 0\n"
     ]
    }
   ],
   "source": [
    "# Validar si se removieron los datos atípicos oldpeak\n",
    "\n",
    "Total_Atipicos=((Dataset['oldpeak']<nivel_minimo)|(Dataset['oldpeak']>nivel_maximo)).sum()\n",
    "print(\"El total de los datos atípicos es {}\".format(Total_Atipicos))"
   ]
  },
  {
   "cell_type": "code",
   "execution_count": 17,
   "id": "280d0fd4-6a7b-4366-97d4-b697c5bc3b7c",
   "metadata": {
    "panel-layout": {
     "height": 442,
     "visible": true,
     "width": 100
    }
   },
   "outputs": [
    {
     "name": "stdout",
     "output_type": "stream",
     "text": [
      "El total de datos atípicos es 2\n"
     ]
    }
   ],
   "source": [
    "#Conteo de Datos Atípicos trestbps\n",
    "\n",
    "nivel_minimo=80\n",
    "nivel_maximo=180\n",
    "Total_Atipicos=((Dataset['trestbps']<nivel_minimo)|(Dataset['trestbps']>nivel_maximo)).sum()\n",
    "print(\"El total de datos atípicos es {}\".format(Total_Atipicos))"
   ]
  },
  {
   "cell_type": "code",
   "execution_count": 18,
   "id": "f61336f1-1038-4565-ae3e-3f93c8acb546",
   "metadata": {},
   "outputs": [],
   "source": [
    "# Filtra Datos Atípicos trestbps\n",
    "\n",
    "Dataset=Dataset[(Dataset['trestbps']<nivel_maximo)&(Dataset['trestbps']>nivel_minimo)]"
   ]
  },
  {
   "cell_type": "code",
   "execution_count": 19,
   "id": "5ae6aeee-c43a-4b30-b8cb-0497a0fbbe00",
   "metadata": {
    "panel-layout": {
     "height": 442,
     "visible": true,
     "width": 100
    }
   },
   "outputs": [
    {
     "name": "stdout",
     "output_type": "stream",
     "text": [
      "El total de los datos atípicos es 0\n"
     ]
    }
   ],
   "source": [
    "# Validar si se removieron los datos atípicos trestbps\n",
    "\n",
    "Total_Atipicos=((Dataset['trestbps']<nivel_minimo)|(Dataset['trestbps']>nivel_maximo)).sum()\n",
    "print(\"El total de los datos atípicos es {}\".format(Total_Atipicos))"
   ]
  },
  {
   "cell_type": "markdown",
   "id": "887ba654-4d40-4406-a52b-21e9e1269fa4",
   "metadata": {},
   "source": [
    "**3.Seleccionar las características más relevantes para entrenar el modelo utilizando selección de características # Total de personas con Diabetes**"
   ]
  },
  {
   "cell_type": "markdown",
   "id": "3db6bb8c-58d9-43d5-bc82-4accd9ab604f",
   "metadata": {},
   "source": [
    "Característica de interes:\n",
    "Condition es la variable objetivo para ver la porbabilidad de una persona si la persona es \n",
    "diagnósticada de enfermedad cardíaca (0 = No tiene enfermedad, 1 = Tiene enfermedad).\n",
    "Predecir si una persona puede ser diagnosticada cardíaca o no cardíaca"
   ]
  },
  {
   "cell_type": "code",
   "execution_count": 20,
   "id": "b89f13f3-8cd7-4b8d-b065-6e6f88730a89",
   "metadata": {},
   "outputs": [
    {
     "data": {
      "text/plain": [
       "condition\n",
       "0    159\n",
       "1    133\n",
       "Name: count, dtype: int64"
      ]
     },
     "execution_count": 20,
     "metadata": {},
     "output_type": "execute_result"
    }
   ],
   "source": [
    "# Total de personas con Diabetes\n",
    "\n",
    "Dataset['condition'].value_counts()"
   ]
  },
  {
   "cell_type": "markdown",
   "id": "77982bb6-ade7-4c48-ba5b-07f6d7b35979",
   "metadata": {},
   "source": [
    "**4. Dividir el dataset en Train y Test para evaluar correctamente el modelo**"
   ]
  },
  {
   "cell_type": "code",
   "execution_count": 21,
   "id": "7aa3fde5-6dcd-453c-9362-6fa8b39262a9",
   "metadata": {},
   "outputs": [],
   "source": [
    "# Porcentaje de datos para entrenamiento (train) = 75% , y para prueba (test) = 25%\n",
    "\n",
    "# Se crean variables X y Y para almacenar la información del entrenamiento\n",
    "\n",
    "X = Dataset.drop('condition',axis=1) # Se cargan los datos de train sin los datos de la columna Condition\n",
    "Y = Dataset['condition'] # Se cargan los datos de train con los datos de la la columna Condition\n",
    "\n",
    "#La función train_test_split crea una división de un conjunto de datos en dos bloques uno de entrenamiento y otro de prueba (train and test)\n",
    "X_train, X_test, Y_train, Y_test = train_test_split(X, Y, test_size=0.25, stratify=Y, random_state= 0)"
   ]
  },
  {
   "cell_type": "code",
   "execution_count": 22,
   "id": "37b47216-c241-40e3-b95a-6515238cc978",
   "metadata": {},
   "outputs": [
    {
     "name": "stdout",
     "output_type": "stream",
     "text": [
      "     age  sex  cp  trestbps  chol  fbs  restecg  thalach  exang  oldpeak  \\\n",
      "268   48    1   3       122   222    0        2      186      0      0.0   \n",
      "53    48    1   1       130   245    0        2      180      0      0.2   \n",
      "208   59    1   3       110   239    0        2      142      1      1.2   \n",
      "74    70    1   2       160   269    0        0      112      1      2.9   \n",
      "290   41    1   3       110   172    0        2      158      0      0.0   \n",
      "..   ...  ...  ..       ...   ...  ...      ...      ...    ...      ...   \n",
      "227   57    1   3       110   201    0        0      126      1      1.5   \n",
      "281   44    1   3       110   197    0        2      177      0      0.0   \n",
      "205   60    0   3       158   305    0        2      161      0      0.0   \n",
      "213   58    1   3       114   318    0        1      140      0      4.4   \n",
      "113   54    0   2       160   201    0        0      163      0      0.0   \n",
      "\n",
      "     slope  ca  thal  \n",
      "268      0   0     0  \n",
      "53       1   0     0  \n",
      "208      1   1     2  \n",
      "74       1   1     2  \n",
      "290      0   0     2  \n",
      "..     ...  ..   ...  \n",
      "227      1   0     1  \n",
      "281      0   1     0  \n",
      "205      0   0     0  \n",
      "213      2   3     1  \n",
      "113      0   1     0  \n",
      "\n",
      "[219 rows x 13 columns]\n"
     ]
    }
   ],
   "source": [
    "print (X_train)"
   ]
  },
  {
   "cell_type": "code",
   "execution_count": 40,
   "id": "d36723a4-8863-49b5-b24e-59fee4825aa9",
   "metadata": {},
   "outputs": [
    {
     "name": "stdout",
     "output_type": "stream",
     "text": [
      "     age  sex  cp  trestbps  chol  fbs  restecg  thalach  exang  oldpeak  \\\n",
      "126   50    1   2       140   233    0        0      163      0      0.6   \n",
      "285   43    1   3       150   247    0        0      171      0      1.5   \n",
      "23    74    0   1       120   269    0        2      121      1      0.2   \n",
      "173   65    1   3       110   248    0        2      158      0      0.6   \n",
      "284   43    1   3       115   303    0        0      181      0      1.2   \n",
      "47    52    1   1       134   201    0        0      158      0      0.8   \n",
      "275   45    1   3       104   208    0        2      148      1      3.0   \n",
      "216   58    1   3       128   259    0        2      130      1      3.0   \n",
      "291   40    1   3       110   167    0        2      114      1      2.0   \n",
      "156   71    0   3       112   149    0        0      125      0      1.6   \n",
      "75    69    1   2       140   254    0        2      146      0      2.0   \n",
      "222   58    1   3       100   234    0        0      156      0      0.1   \n",
      "70    34    0   1       118   210    0        0      192      0      0.7   \n",
      "120   51    1   2       110   175    0        0      123      0      0.6   \n",
      "121   51    0   2       140   308    0        2      142      0      1.5   \n",
      "174   64    1   3       120   246    0        2       96      1      2.2   \n",
      "214   58    1   3       128   216    0        2      131      1      2.2   \n",
      "288   42    1   3       136   315    0        0      125      1      1.8   \n",
      "144   42    1   2       120   240    1        0      194      0      0.8   \n",
      "241   55    1   3       160   289    0        2      145      1      0.8   \n",
      "189   62    0   3       138   294    1        0      106      0      1.9   \n",
      "124   51    0   2       120   295    0        2      157      0      0.6   \n",
      "293   39    1   3       118   219    0        0      140      0      1.2   \n",
      "246   54    1   3       110   239    0        0      126      1      2.8   \n",
      "128   49    1   2       120   188    0        0      139      0      2.0   \n",
      "171   65    1   3       135   254    0        2      127      0      2.8   \n",
      "258   52    1   3       125   212    0        0      168      0      1.0   \n",
      "235   56    1   3       130   283    1        2      103      1      1.6   \n",
      "229   57    0   3       140   241    0        0      123      1      0.2   \n",
      "130   48    0   2       130   275    0        0      139      0      0.2   \n",
      "104   57    1   2       150   168    0        0      174      0      1.6   \n",
      "17    51    1   0       125   213    0        2      125      1      1.4   \n",
      "136   46    1   2       150   231    0        0      147      0      3.6   \n",
      "177   64    1   3       128   263    0        0      105      1      0.2   \n",
      "172   65    1   3       120   177    0        0      140      0      0.4   \n",
      "18    45    1   0       110   264    0        0      132      0      1.2   \n",
      "118   51    1   2       100   222    0        0      143      1      1.2   \n",
      "12    59    1   0       134   204    0        0      162      0      0.8   \n",
      "93    60    1   2       140   185    0        2      155      0      3.0   \n",
      "105   57    1   2       150   126    1        0      173      0      0.2   \n",
      "37    56    0   1       140   294    0        2      153      0      1.3   \n",
      "215   58    0   3       100   248    0        2      122      0      1.0   \n",
      "108   54    1   2       120   258    0        2      147      0      0.4   \n",
      "196   61    1   3       140   207    0        2      138      1      1.9   \n",
      "287   42    0   3       102   265    0        2      122      0      0.6   \n",
      "3     65    1   0       138   282    1        2      174      0      1.4   \n",
      "51    49    1   1       130   266    0        0      171      0      0.6   \n",
      "193   61    0   3       145   307    0        2      146      1      1.0   \n",
      "169   66    1   3       160   228    0        2      138      0      2.3   \n",
      "187   62    1   3       120   267    0        0       99      1      1.8   \n",
      "160   67    1   3       160   286    0        2      108      1      1.5   \n",
      "185   62    0   3       140   268    0        2      160      0      3.6   \n",
      "49    50    0   1       120   244    0        0      162      0      1.1   \n",
      "199   60    1   3       145   282    0        2      142      1      2.8   \n",
      "84    65    0   2       155   269    0        0      148      0      0.8   \n",
      "\n",
      "     slope  ca  thal  \n",
      "126      1   1     2  \n",
      "285      0   0     0  \n",
      "23       0   1     0  \n",
      "173      0   2     1  \n",
      "284      1   0     0  \n",
      "47       0   1     0  \n",
      "275      1   0     0  \n",
      "216      1   2     2  \n",
      "291      1   0     2  \n",
      "156      1   0     0  \n",
      "75       1   3     2  \n",
      "222      0   1     2  \n",
      "70       0   0     0  \n",
      "120      0   0     0  \n",
      "121      0   1     0  \n",
      "174      2   1     0  \n",
      "214      1   3     2  \n",
      "288      1   0     1  \n",
      "144      2   0     2  \n",
      "241      1   1     2  \n",
      "189      1   3     0  \n",
      "124      0   0     0  \n",
      "293      1   0     2  \n",
      "246      1   1     2  \n",
      "128      1   3     2  \n",
      "171      1   1     2  \n",
      "258      0   2     2  \n",
      "235      2   0     2  \n",
      "229      1   0     2  \n",
      "130      0   0     0  \n",
      "104      0   0     0  \n",
      "17       0   1     0  \n",
      "136      1   0     0  \n",
      "177      1   1     2  \n",
      "172      0   0     2  \n",
      "18       1   0     2  \n",
      "118      1   0     0  \n",
      "12       0   2     0  \n",
      "93       1   0     0  \n",
      "105      0   1     2  \n",
      "37       1   0     0  \n",
      "215      1   0     0  \n",
      "108      1   0     2  \n",
      "196      0   1     2  \n",
      "287      1   0     0  \n",
      "3        1   1     0  \n",
      "51       0   0     0  \n",
      "193      1   0     2  \n",
      "169      0   0     1  \n",
      "187      1   2     2  \n",
      "160      1   3     0  \n",
      "185      2   2     0  \n",
      "49       0   0     0  \n",
      "199      1   2     2  \n",
      "84       0   0     0  \n"
     ]
    }
   ],
   "source": [
    "print (X_test)"
   ]
  },
  {
   "cell_type": "markdown",
   "id": "7b2826ff-3dee-49b9-a3f4-231f93385606",
   "metadata": {},
   "source": [
    "**5. Entrenar el modelo configurando los diferentes hiperparámetros**"
   ]
  },
  {
   "cell_type": "code",
   "execution_count": 23,
   "id": "c6cefb55-335e-4a80-a30f-60faff25299d",
   "metadata": {},
   "outputs": [],
   "source": [
    "# Construir el modelo de regresión logística \n",
    "\n",
    "modelo_regresion = LogisticRegression(solver = \"liblinear\") # liblinear es una libreria para resolver problemas lineales de clasificación y regresión\n",
    "modelo_regresion.fit (X_train , Y_train)   \n",
    "\n",
    "# Crea el modelo de prediccion\n",
    "Prediccion = modelo_regresion.predict(X_test) # la función predict predice los valores a partir del conjunto de datos de validación"
   ]
  },
  {
   "cell_type": "code",
   "execution_count": 24,
   "id": "e80a27be-f1eb-48bd-b9ec-6fb1926f94d1",
   "metadata": {},
   "outputs": [
    {
     "data": {
      "text/html": [
       "<div>\n",
       "<style scoped>\n",
       "    .dataframe tbody tr th:only-of-type {\n",
       "        vertical-align: middle;\n",
       "    }\n",
       "\n",
       "    .dataframe tbody tr th {\n",
       "        vertical-align: top;\n",
       "    }\n",
       "\n",
       "    .dataframe thead th {\n",
       "        text-align: right;\n",
       "    }\n",
       "</style>\n",
       "<table border=\"1\" class=\"dataframe\">\n",
       "  <thead>\n",
       "    <tr style=\"text-align: right;\">\n",
       "      <th></th>\n",
       "      <th>age</th>\n",
       "      <th>sex</th>\n",
       "      <th>cp</th>\n",
       "      <th>trestbps</th>\n",
       "      <th>chol</th>\n",
       "      <th>fbs</th>\n",
       "      <th>restecg</th>\n",
       "      <th>thalach</th>\n",
       "      <th>exang</th>\n",
       "      <th>oldpeak</th>\n",
       "      <th>slope</th>\n",
       "      <th>ca</th>\n",
       "      <th>thal</th>\n",
       "    </tr>\n",
       "  </thead>\n",
       "  <tbody>\n",
       "    <tr>\n",
       "      <th>111</th>\n",
       "      <td>54</td>\n",
       "      <td>1</td>\n",
       "      <td>2</td>\n",
       "      <td>150</td>\n",
       "      <td>232</td>\n",
       "      <td>0</td>\n",
       "      <td>2</td>\n",
       "      <td>165</td>\n",
       "      <td>0</td>\n",
       "      <td>1.6</td>\n",
       "      <td>0</td>\n",
       "      <td>0</td>\n",
       "      <td>2</td>\n",
       "    </tr>\n",
       "    <tr>\n",
       "      <th>257</th>\n",
       "      <td>52</td>\n",
       "      <td>1</td>\n",
       "      <td>3</td>\n",
       "      <td>112</td>\n",
       "      <td>230</td>\n",
       "      <td>0</td>\n",
       "      <td>0</td>\n",
       "      <td>160</td>\n",
       "      <td>0</td>\n",
       "      <td>0.0</td>\n",
       "      <td>0</td>\n",
       "      <td>1</td>\n",
       "      <td>0</td>\n",
       "    </tr>\n",
       "    <tr>\n",
       "      <th>51</th>\n",
       "      <td>49</td>\n",
       "      <td>1</td>\n",
       "      <td>1</td>\n",
       "      <td>130</td>\n",
       "      <td>266</td>\n",
       "      <td>0</td>\n",
       "      <td>0</td>\n",
       "      <td>171</td>\n",
       "      <td>0</td>\n",
       "      <td>0.6</td>\n",
       "      <td>0</td>\n",
       "      <td>0</td>\n",
       "      <td>0</td>\n",
       "    </tr>\n",
       "    <tr>\n",
       "      <th>272</th>\n",
       "      <td>46</td>\n",
       "      <td>0</td>\n",
       "      <td>3</td>\n",
       "      <td>138</td>\n",
       "      <td>243</td>\n",
       "      <td>0</td>\n",
       "      <td>2</td>\n",
       "      <td>152</td>\n",
       "      <td>1</td>\n",
       "      <td>0.0</td>\n",
       "      <td>1</td>\n",
       "      <td>0</td>\n",
       "      <td>0</td>\n",
       "    </tr>\n",
       "    <tr>\n",
       "      <th>39</th>\n",
       "      <td>56</td>\n",
       "      <td>1</td>\n",
       "      <td>1</td>\n",
       "      <td>130</td>\n",
       "      <td>221</td>\n",
       "      <td>0</td>\n",
       "      <td>2</td>\n",
       "      <td>163</td>\n",
       "      <td>0</td>\n",
       "      <td>0.0</td>\n",
       "      <td>0</td>\n",
       "      <td>0</td>\n",
       "      <td>2</td>\n",
       "    </tr>\n",
       "    <tr>\n",
       "      <th>63</th>\n",
       "      <td>41</td>\n",
       "      <td>1</td>\n",
       "      <td>1</td>\n",
       "      <td>135</td>\n",
       "      <td>203</td>\n",
       "      <td>0</td>\n",
       "      <td>0</td>\n",
       "      <td>132</td>\n",
       "      <td>0</td>\n",
       "      <td>0.0</td>\n",
       "      <td>1</td>\n",
       "      <td>0</td>\n",
       "      <td>1</td>\n",
       "    </tr>\n",
       "    <tr>\n",
       "      <th>259</th>\n",
       "      <td>51</td>\n",
       "      <td>0</td>\n",
       "      <td>3</td>\n",
       "      <td>130</td>\n",
       "      <td>305</td>\n",
       "      <td>0</td>\n",
       "      <td>0</td>\n",
       "      <td>142</td>\n",
       "      <td>1</td>\n",
       "      <td>1.2</td>\n",
       "      <td>1</td>\n",
       "      <td>0</td>\n",
       "      <td>2</td>\n",
       "    </tr>\n",
       "    <tr>\n",
       "      <th>279</th>\n",
       "      <td>44</td>\n",
       "      <td>1</td>\n",
       "      <td>3</td>\n",
       "      <td>120</td>\n",
       "      <td>169</td>\n",
       "      <td>0</td>\n",
       "      <td>0</td>\n",
       "      <td>144</td>\n",
       "      <td>1</td>\n",
       "      <td>2.8</td>\n",
       "      <td>2</td>\n",
       "      <td>0</td>\n",
       "      <td>1</td>\n",
       "    </tr>\n",
       "    <tr>\n",
       "      <th>214</th>\n",
       "      <td>58</td>\n",
       "      <td>1</td>\n",
       "      <td>3</td>\n",
       "      <td>128</td>\n",
       "      <td>216</td>\n",
       "      <td>0</td>\n",
       "      <td>2</td>\n",
       "      <td>131</td>\n",
       "      <td>1</td>\n",
       "      <td>2.2</td>\n",
       "      <td>1</td>\n",
       "      <td>3</td>\n",
       "      <td>2</td>\n",
       "    </tr>\n",
       "    <tr>\n",
       "      <th>100</th>\n",
       "      <td>58</td>\n",
       "      <td>1</td>\n",
       "      <td>2</td>\n",
       "      <td>132</td>\n",
       "      <td>224</td>\n",
       "      <td>0</td>\n",
       "      <td>2</td>\n",
       "      <td>173</td>\n",
       "      <td>0</td>\n",
       "      <td>3.2</td>\n",
       "      <td>0</td>\n",
       "      <td>2</td>\n",
       "      <td>2</td>\n",
       "    </tr>\n",
       "  </tbody>\n",
       "</table>\n",
       "</div>"
      ],
      "text/plain": [
       "     age  sex  cp  trestbps  chol  fbs  restecg  thalach  exang  oldpeak  \\\n",
       "111   54    1   2       150   232    0        2      165      0      1.6   \n",
       "257   52    1   3       112   230    0        0      160      0      0.0   \n",
       "51    49    1   1       130   266    0        0      171      0      0.6   \n",
       "272   46    0   3       138   243    0        2      152      1      0.0   \n",
       "39    56    1   1       130   221    0        2      163      0      0.0   \n",
       "63    41    1   1       135   203    0        0      132      0      0.0   \n",
       "259   51    0   3       130   305    0        0      142      1      1.2   \n",
       "279   44    1   3       120   169    0        0      144      1      2.8   \n",
       "214   58    1   3       128   216    0        2      131      1      2.2   \n",
       "100   58    1   2       132   224    0        2      173      0      3.2   \n",
       "\n",
       "     slope  ca  thal  \n",
       "111      0   0     2  \n",
       "257      0   1     0  \n",
       "51       0   0     0  \n",
       "272      1   0     0  \n",
       "39       0   0     2  \n",
       "63       1   0     1  \n",
       "259      1   0     2  \n",
       "279      2   0     1  \n",
       "214      1   3     2  \n",
       "100      0   2     2  "
      ]
     },
     "execution_count": 24,
     "metadata": {},
     "output_type": "execute_result"
    }
   ],
   "source": [
    "X_test.head(10)"
   ]
  },
  {
   "cell_type": "code",
   "execution_count": 25,
   "id": "d8407fbb-5f28-42db-ac66-a4c5e88ac0f2",
   "metadata": {},
   "outputs": [
    {
     "name": "stdout",
     "output_type": "stream",
     "text": [
      "[1 0 0 0 0 0 1 1 1 1 0 0 0 0 0 0 1 1 1 0 0 0 1 0 1 1 0 1 1 1 0 0 0 0 0 0 0\n",
      " 0 0 0 1 1 1 1 1 0 1 0 0 0 0 0 1 1 0 1 0 1 1 0 0 1 0 1 0 1 0 0 1 1 0 1 1]\n"
     ]
    }
   ],
   "source": [
    "print (Prediccion)"
   ]
  },
  {
   "cell_type": "markdown",
   "id": "175cc9c3-f7d1-4684-9474-8494f7d7db68",
   "metadata": {},
   "source": [
    "**6. Evaluar el desempeño del modelo en el conjunto de Test con métricas como precisión, recall, F1-score, etc**"
   ]
  },
  {
   "cell_type": "code",
   "execution_count": 26,
   "id": "9453c09e-deae-438a-a22e-b50cd37f6bfd",
   "metadata": {},
   "outputs": [
    {
     "name": "stdout",
     "output_type": "stream",
     "text": [
      "              precision    recall  f1-score   support\n",
      "\n",
      "           0       0.88      0.90      0.89        40\n",
      "           1       0.88      0.85      0.86        33\n",
      "\n",
      "    accuracy                           0.88        73\n",
      "   macro avg       0.88      0.87      0.88        73\n",
      "weighted avg       0.88      0.88      0.88        73\n",
      "\n"
     ]
    }
   ],
   "source": [
    "# Desempeño del modelo de regresión\n",
    "\n",
    "print(classification_report(Y_test,Prediccion))"
   ]
  },
  {
   "cell_type": "markdown",
   "id": "7b6fb920-56a1-4a3a-84a0-f8dfa8432bf3",
   "metadata": {},
   "source": [
    "**7. Realizar las diferentes gráficas que permitan visualizar los resultados del modelo**"
   ]
  },
  {
   "cell_type": "code",
   "execution_count": 27,
   "id": "0af5c33f-aab6-4905-9b0f-be980fab6878",
   "metadata": {},
   "outputs": [
    {
     "data": {
      "text/plain": [
       "<sklearn.metrics._plot.confusion_matrix.ConfusionMatrixDisplay at 0x26020ed2150>"
      ]
     },
     "execution_count": 27,
     "metadata": {},
     "output_type": "execute_result"
    },
    {
     "data": {
      "image/png": "[encoded data removed]",
      "text/plain": [
       "<Figure size 640x480 with 2 Axes>"
      ]
     },
     "metadata": {},
     "output_type": "display_data"
    }
   ],
   "source": [
    "#Matrix de Confusión del modelo\n",
    "\n",
    "cm=confusion_matrix(Y_test,Prediccion)\n",
    "disp=metrics.ConfusionMatrixDisplay(confusion_matrix=cm)\n",
    "disp.plot()"
   ]
  },
  {
   "cell_type": "code",
   "execution_count": 29,
   "id": "38f74beb-0301-4094-a74b-3763be1ea333",
   "metadata": {},
   "outputs": [
    {
     "data": {
      "image/png": "[encoded data removed]",
      "text/plain": [
       "<Figure size 640x480 with 1 Axes>"
      ]
     },
     "metadata": {},
     "output_type": "display_data"
    }
   ],
   "source": [
    "# Curva de precisón del modelo\n",
    "\n",
    "from sklearn.metrics import RocCurveDisplay\n",
    "RocCurveDisplay.from_predictions(Y_test, Prediccion)\n",
    "plt.show()"
   ]
  },
  {
   "cell_type": "code",
   "execution_count": null,
   "id": "f7bdea7c-3464-4ac1-822c-3b965cb3ba81",
   "metadata": {},
   "outputs": [],
   "source": []
  }
 ],
 "metadata": {
  "kernelspec": {
   "display_name": "Python 3 (ipykernel)",
   "language": "python",
   "name": "python3"
  },
  "language_info": {
   "codemirror_mode": {
    "name": "ipython",
    "version": 3
   },
   "file_extension": ".py",
   "mimetype": "text/x-python",
   "name": "python",
   "nbconvert_exporter": "python",
   "pygments_lexer": "ipython3",
   "version": "3.12.7"
  },
  "panel-cell-order": [
   "0c10c114-5b54-4528-b760-f91b6a1d62f4",
   "17acdc84-b293-42fd-9855-62f6c65bb22e",
   "2e36ccfa-378e-49ed-ab7d-ef90fbd2b365",
   "622c878b-4575-4169-a9e0-7bb484f998b5",
   "29458b54-d461-427a-9d17-8e425805951a",
   "06b74745-4daf-4410-8d93-fb73f8a36aac",
   "32d9c422-fbd9-42d1-8234-211b5fd1a86e",
   "9caf3ee7-1a57-4cc4-8da0-d4a615e8aace",
   "8b5196a9-5229-4924-aacf-6aab5d3856f2",
   "7f64ba31-1443-4b65-9a97-b244dbfed15b",
   "280d0fd4-6a7b-4366-97d4-b697c5bc3b7c",
   "5ae6aeee-c43a-4b30-b8cb-0497a0fbbe00"
  ]
 },
 "nbformat": 4,
 "nbformat_minor": 5
}
